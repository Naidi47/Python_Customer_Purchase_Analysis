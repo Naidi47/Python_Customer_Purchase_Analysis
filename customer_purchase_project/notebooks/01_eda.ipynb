{
 "cells": [
  {
   "cell_type": "markdown",
   "id": "4b573229",
   "metadata": {},
   "source": [
    "# EDA - Uploaded Dataset"
   ]
  },
  {
   "cell_type": "code",
   "execution_count": null,
   "id": "fe39fd7f",
   "metadata": {},
   "outputs": [],
   "source": [
    "import pandas as pd\n",
    "pd.set_option('display.max_columns', None)\n",
    "df = pd.read_csv('data/processed/dataset_clean.csv', parse_dates=True)\n",
    "df.head()"
   ]
  }
 ],
 "metadata": {},
 "nbformat": 4,
 "nbformat_minor": 5
}
